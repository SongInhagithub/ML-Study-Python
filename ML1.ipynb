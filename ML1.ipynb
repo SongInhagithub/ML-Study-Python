{
 "cells": [
  {
   "cell_type": "markdown",
   "metadata": {},
   "source": [
    "# 파이썬 머신러닝 스터디\n",
    "### [파이썬 완벽가이드 1 단원]"
   ]
  },
  {
   "cell_type": "markdown",
   "metadata": {},
   "source": [
    "**01. 머신러닝의 개념**\n",
    "\n",
    ">머신러닝(Machine Learning)의 개념은 다양하게 표현할 수 있으나, 일반적으로는 애플리케이션을 수정하지 않고도 데이터를 기반으로 패턴을 학습하고 결과를 예측하는 알고리즘 기법을 통칭.\n",
    "머신러닝 알고리즘은 데이터를 기반으로 통계적인 신뢰도를 강화하고 예측오류를 최소화하기 위한 다양한 수학적 기법을 적용해 데이터 내의 패턴을 스스로 인지하고 신뢰도있는 예측 결과를 도출해낸다. \n",
    "\n",
    "*머신러닝의 분류*\n",
    "\n",
    "* 지도학습 : 분류, 회귀, 추천시스템, 시각/음성 감지/인지, 텍스트 분석/NLP\n",
    "* 비지도학습 : 클러스터링, 차원 축소, 강화학습\n",
    "\n",
    "**02. 파이썬 머신러닝 생태계를 구성하는 주요 패키지**\n",
    "> * 머신러닝 패키지: 많은 데이터 과학자와 분석가들에게 파이썬 세계의 가장 대표적인 머신러닝 패키지를 선택해 달라고 요\n",
    "청한다면 아마도 주저 없이 사이킷런(Scikit丄earn)을 꼽을 것입니다. 물론 영상, 음성 언어 등의 비정형 데이터 분야에서\n",
    "딥러닝의 뛰어난 활약으로 텐서플로. 케라스 등의 전문 딥러닝 라이브러리가 각광을 받고 있지만, 사이킷런의 경우는 여전\n",
    "히 데이터 마이닝 기반의 머신러닝에서 독보적인 위치를 차지하고 있습니다. 이 책에서는 사이킷런 기반에서 머신러닝을\n",
    "구현하는 것에만 초점을 맞출 것입니다.\n",
    "> * 행렬/선형대수/통계 패키지: 머신러닝의 이론적 백그라운드는 선형대수와 통계로 이뤄져 있습니다. 파이썬의 대표적인 행\n",
    "렬과 선형대수를 다루는 패키지는 넘파이(NumPy)입니다. 사이킷런을 비롯한 많은 머신러닝 패키지가 넘파이 기반으로\n",
    "돼 있습니다. 넘파이와 더불어 사이파이(SciPy)는 자연과학과 통계를 위한 다양한 패키지를 가지고 있습니다. 사이킷런 역\n",
    "시 사이파이 패키지의 도움을 받아 구축된 여러 가지 패키지를 가지고 있습니다.\n",
    "> * 데이터 핸들링: 판다스는 파이썬 세계의 대표적인 데이터 처리 패키지입니다. 넘파이는 행렬 기반의 데이터 처리에 특화돼\n",
    "있어서 일반적인 데이터 처리에는 부족한 부분이 많습니다. 판다스는 2차원 데이터 처리에 특화되어 있으며 넘파이보다\n",
    "훨씬 편리하게 데이터 처리를 할 수 있는 많은 기능을 제공합니다. 또한 맷플롯립(Matplotlib)을 호출해 쉽게 시각화 기능\n",
    "을 지원할 수도 있습니다.\n",
    "> * 시각화: 파이썬의 대표적인 시각화 패키지는 맷플롯립입니다. 맷플롯립은 파이썬 기반의 다른 시각화 패키지에도 많은 영\n",
    "향을 끼치고 있으며, 오랜 기간 파이썬의 대표적 시각화 라이브러리로 자리 잡았습니다. 하지만 맷플롯립은 너무 세분화된\n",
    "API로 익히기가 번거롭습니다. 또한 시각적인 디자인 부분에서도 투박한 면이 있습니다. 단순히 시각화를 위해 데이터 분\n",
    "석가/과학자가 작성하는 코드가 길어지기 때문에 효율이 떨어지고 불편함이 늘어날 수 있습니다. 이를 보완하기 위한 여러\n",
    "시각화 패키지가 출시되고 있는데, 대표적으로 시본(Seaborn)이 있습니다.\n",
    "시본은 맷플롯립을 기반으로 만들었지만, 판다스와의 쉬운 연동, 더 함축적인 API, 분석을 위한 다양한 유형의 그래프/차\n",
    "트 제공 등으로 파이썬 기반의 데이터 분석가/과학자에게 인기를 얻고 있습니다. 하지만 시본을 사용하기 위해서는 맷플롯\n",
    "립을 어느 정도 알고 있어야 합니다. 시본이 맷플롯립의 AI기를 이용해 더 함축적으로 만든 라이브러리지만, 여전히 세밀한\n",
    "부분의 제어는 맷플롯립의 API를 그대로 사용하고 있기 때문입니다. 이 책 전반에 걸쳐 그래프/차트 등의 시각화는 시본을\n",
    "주로 이용하되, 맷플롯립이나 판다스로도 쉽게 가능한 시각화 부분은 이들을 이용하기로 하겠습니다.\n",
    "> * 이 외에 파이썬 기반의 머신러닝을 편리하게 지원하기 위한 여러 서드파티 라이브러리가 있습니다. 이 책 전반에 걸쳐서\n",
    "이들 라이브러리를 함께 이용해 머신러닝 애플리케이션을 작성할 것이며 그때마다 각각 설명하겠습니다. 파이썬의 큰 장\n",
    "점은 매우 많은 라이브러리가 오픈 소스로 존재한다는 것입니다. 때로는 너무 많은 라이브러리로 인해 오히려 헷갈리는 부\n",
    "분도 있지만, 개발 시 어려움에 봉착할 때마다 누군가가 오픈 소스 라이브러리로 편리하게 해결책을 제공한다는 점은 파이\n",
    "썬 언어가 주류 개발 언어로 발전할 수 있는 훌륭한 기반이 되고 있습니다（아쉽지만 우리나라에서는 아직 파이썬이 주류\n",
    "개발 언어가 아닙니다）.\n",
    "> * 마지막으루 아이파이썬IPython, Interactive Python） 툴인 주피터 노트북（Jupyter Notebook）0|| 대해 설명하겠습니다.\n",
    "아이파이썬은 대화형 파이썬 툴을 지칭합니다. 대화형 툴이라는 말은 마치 학교에서 선생님이 학생들에게 설명하듯이 프\n",
    "로그래밍과 이에 대한 설명적인 요소를 결합했다는 뜻입니다. 전체 프로그램에서 특정 = 영역별로 개별 수행을 지원하\n",
    "므로 영역별로 코드 이해가 매우 명확하게 설명될 수 있습니다. 주피터 노트북은 대표적인 아이파이썬 지원 툴입니다. 노\n",
    "트북, 즉 ‘공책’이라는 접미사（알다시피 노트북（Notebook）은 한글로 노트북 컴퓨터가 아닌 학교에서 사용하는 일반적인\n",
    "공책을 의미합니다）에서 유추할 수 있듯이 학생들이 필기하듯이 중요 코드 단위로 설명을 적고 코드를 수행해 그 결과를\n",
    "볼 수 있게 만들어서 직관적으로 어떤 코드가 어떤 역할을 하는지 매우 쉽게 이해할 수 있도록 지원합니다.\n",
    "\n",
    "\n",
    "**03. 넘파이**\n",
    "> 머신러닝의 주요 알고리즘은 선형대수와 통계 등에 기반합니다. 특히 선형대수는 수학뿐만 아니라\n",
    "다른 영역의 자연과학. 공학에서 널리 사용되고 있습니다. Numerical Python을 의미하는 넘파이\n",
    "(NumPy)는 파이썬에서 선형대수 기반의 프로그램을 쉽게 만들 수 있도록 지원하는 대표적인 패키지\n",
    "입니다. 루프를 사용하지 않고 대량 데이터의 배열 연산을 가능하게 하므로 빠른 배열 연산 속도를 보\n",
    "장합니다. 대량 데이터 기반의 과학과 공학 프로그램은 빠른 계산 능력이 매우 중요합니다. 때문에 파\n",
    "이썬 기반의 많은 과학과 공학 패키지는 넘파이에 의존하고 있습니다.\n",
    "> 넘파이는 배열 기반의 연산은 물론이고 다양한 데이터 핸들링 기능을 제공합니다. 많은 파이썬 기반의\n",
    "패키지가 넘파이를 이용해 데이터 처리를 수행하지만, 편의성과 다양한 API 지원 측면에서 아쉬운 부\n",
    "분이 많습니다. 일반적으로 데이터는 2차원 형태의 행과 열로 이뤄졌으며, 이에 대한 다양한 가공과\n",
    "변환, 여러 가지 통계용 함수의 적용 등이 필요합니다. 이러한 부분에서 넘파이는 파이썬의 대표적인\n",
    "데이터 처리 패키지인 판다스의 편리성에는 미치지 못하는 게 사실\n"
   ]
  },
  {
   "cell_type": "code",
   "execution_count": 2,
   "metadata": {},
   "outputs": [],
   "source": [
    "##넘파이 ndarray 개요\n",
    "import numpy as np\n",
    "#넘파이의 기반 데이터 타입은 ndarray입니다. ndarray를 이용해 넘파이에서 다차원(Multi-dimension) 배열을 쉽게 생성하고 다양한 연산을 수행할 수 있습니다.\n"
   ]
  },
  {
   "cell_type": "code",
   "execution_count": 22,
   "metadata": {},
   "outputs": [
    {
     "name": "stdout",
     "output_type": "stream",
     "text": [
      "array1 type： <class 'numpy.ndarray'>\n",
      "array1 array 형태: (3,)\n",
      "array2 type： <class 'numpy.ndarray'>\n",
      "array2 array 형태： (2, 3)\n",
      "array3 type： <class 'numpy.ndarray'>\n",
      "array3 array 형태： (1, 3)\n",
      "array1:1차원, array2:2차원, array3:2차원\n"
     ]
    }
   ],
   "source": [
    "#array() 함수는 파이썬의 리스트와 같은 다양한 인자를 입력 받아서 ndarray로 변환하는 기능을 수행합니다. \n",
    "#생성된 ndarray 배열의 shape 변수는 ndarray의 크기, 즉 행과 열의 수를 튜플 형태로 가지고 있으며 \n",
    "#이를 통해 ndarray 배열의 차원까지 알 수 있습니다.\n",
    "array1 = np.array([1, 2, 3])\n",
    "print('array1 type：', type(array1))\n",
    "print('array1 array 형태:', array1.shape)#튜플형태: 1차원 array로 3개의 데이터 가지고있다는 뜻\n",
    "array2 = np.array([[1, 2, 3], [2, 3, 4]])\n",
    "print('array2 type：',type(array2))\n",
    "print('array2 array 형태：', array2.shape)# 튜플형태: 2개의 행과 3개의 열\n",
    "array3 = np.array([[1, 2, 3]])\n",
    "print('array3 type：',type(array3))\n",
    "print('array3 array 형태：', array3.shape)#1개의 행과 3개의 열로 구성된 2차원 데이터 \n",
    "\n",
    "print('array1:{0}차원, array2:{1}차원, array3:{2}차원'.format(array1.ndim,array2.ndim,array3.ndim))"
   ]
  },
  {
   "cell_type": "code",
   "execution_count": 23,
   "metadata": {},
   "outputs": [
    {
     "name": "stdout",
     "output_type": "stream",
     "text": [
      "<class 'list'>\n",
      "<class 'numpy.ndarray'>\n",
      "[1 2 3] int32\n"
     ]
    }
   ],
   "source": [
    "##ndarray의 데이터 타입\n",
    "# ndarray내의 데이터값은 숫자 값, 문자열 값, 불 값 등이 모두 가능합니다. 숫자형의 경우 int형(8bit, 16bit, 32bit), \n",
    "# unsigned int형(8bit, 16bit, 32bit), float형(16bit, 32bit, 64bit, 128bit), \n",
    "# 그리고 이보다 더 큰 숫자 값이나 정밀도를 위해 complex 타입도 제공합니다.\n",
    "# ndarray내의 데이터 타입은 그 연산의 특성상 같은 데이터 타입만 가능합니다. 즉, 한 개의 ndarray\n",
    "# 객체에 int와 float가 함께 있을 수 없습니다. ndarray내의 데이터 타입은 dtype 속성으로 확인할 수 있습니다.\n",
    "\n",
    "list1=[1,2,3]\n",
    "print(type(list1))\n",
    "array1= np.array(list1)\n",
    "print(type(array1))\n",
    "print(array1, array1.dtype)"
   ]
  },
  {
   "cell_type": "code",
   "execution_count": 25,
   "metadata": {},
   "outputs": [
    {
     "name": "stdout",
     "output_type": "stream",
     "text": [
      "['1' '2' 'test'] <U11\n",
      "[1. 2. 3.] float64\n"
     ]
    }
   ],
   "source": [
    "list2 =[1,2, 'test']\n",
    "array2 = np.array(list2)\n",
    "print(array2, array2.dtype)\n",
    "list3 = [1, 2, 3.0]\n",
    "array3 = np.array(list3)\n",
    "print(array3, array3.dtype)\n",
    "# ndarray는 데이터값이 모두 같은 데이터 타입이어야 하므로 서로 다른 데이터 타입이 섞여 있을 경우 \n",
    "#데이터 타입이 더 큰 데이터 타입으로 변환"
   ]
  },
  {
   "cell_type": "code",
   "execution_count": 27,
   "metadata": {},
   "outputs": [
    {
     "name": "stdout",
     "output_type": "stream",
     "text": [
      "[1. 2. 3.] float64\n",
      "[1 2 3] int32\n",
      "[1 2 3] int32\n"
     ]
    }
   ],
   "source": [
    "array_int = np.array([1, 2, 3])\n",
    "array_float = array_int.astype('float64')\n",
    "print(array_float, array_float.dtype)\n",
    "array_int1= array_float.astype('int32')\n",
    "print(array_int1, array_int1.dtype)\n",
    "array_float1 = np.array([1.1, 2.1, 3.1 ])\n",
    "array_int2= array_float1.astype('int32')\n",
    "print(array_int2, array_int2.dtype)\n"
   ]
  },
  {
   "cell_type": "code",
   "execution_count": 29,
   "metadata": {},
   "outputs": [
    {
     "name": "stdout",
     "output_type": "stream",
     "text": [
      "[0 1 2 3 4 5 6 7 8 9]\n",
      "int32 (10,)\n",
      "[[0 0]\n",
      " [0 0]\n",
      " [0 0]]\n",
      "int32 (3, 2)\n",
      "[[1. 1.]\n",
      " [1. 1.]\n",
      " [1. 1.]]\n",
      "float64 (3, 2)\n"
     ]
    }
   ],
   "source": [
    "##ndarray를 편리하게 생성하기 一 arange, zeros, ones\n",
    "#특정 크기와 차원을 가진 ndarray# 연속값이나 0또는 1로 초기화해 쉽게 생성해야 할 필요가 있는 경우\n",
    "\n",
    "sequence_array = np.arange(10)\n",
    "print(sequence_array)\n",
    "print(sequence_array.dtype, sequence_array.shape)\n",
    "\n",
    "zero_array = np.zeros((3, 2), dtype='int32')\n",
    "print(zero_array)\n",
    "print(zero_array.dtype, zero_array.shape)\n",
    "\n",
    "one_array = np.ones((3, 2))\n",
    "print(one_array)\n",
    "print(one_array.dtype, one_array.shape)"
   ]
  },
  {
   "cell_type": "code",
   "execution_count": 32,
   "metadata": {},
   "outputs": [
    {
     "name": "stdout",
     "output_type": "stream",
     "text": [
      "array1 ：\n",
      " [0 1 2 3 4 5 6 7 8 9]\n",
      "array2：\n",
      " [[0 1 2 3 4]\n",
      " [5 6 7 8 9]]\n",
      "array3：\n",
      " [[0 1]\n",
      " [2 3]\n",
      " [4 5]\n",
      " [6 7]\n",
      " [8 9]]\n"
     ]
    }
   ],
   "source": [
    "##ndarray의 차원과 크기를 변경하는 reshape()\n",
    "array1 = np.arange(10)\n",
    "print('array1 ：\\n', array1)\n",
    "array2 = array1.reshape(2, 5)\n",
    "print('array2：\\n', array2)\n",
    "array3 = array1.reshape(5, 2)\n",
    "print('array3：\\n', array3)\n",
    "\n",
    "#array1.reshape(4, 3)#불가능"
   ]
  },
  {
   "cell_type": "code",
   "execution_count": 34,
   "metadata": {},
   "outputs": [],
   "source": [
    "#array1.reshape(4, 3)#불가능"
   ]
  },
  {
   "cell_type": "code",
   "execution_count": null,
   "metadata": {},
   "outputs": [],
   "source": []
  }
 ],
 "metadata": {
  "kernelspec": {
   "display_name": "Python 3",
   "language": "python",
   "name": "python3"
  },
  "language_info": {
   "codemirror_mode": {
    "name": "ipython",
    "version": 3
   },
   "file_extension": ".py",
   "mimetype": "text/x-python",
   "name": "python",
   "nbconvert_exporter": "python",
   "pygments_lexer": "ipython3",
   "version": "3.7.3"
  }
 },
 "nbformat": 4,
 "nbformat_minor": 2
}
